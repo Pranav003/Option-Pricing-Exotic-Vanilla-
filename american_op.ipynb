{
 "cells": [
  {
   "cell_type": "code",
   "execution_count": 2,
   "metadata": {},
   "outputs": [],
   "source": [
    "# Import necessary libraries\n",
    "import numpy as np\n",
    "from scipy.stats import norm\n",
    "import datetime\n",
    "import yfinance as yf\n",
    "from math import *\n"
   ]
  },
  {
   "cell_type": "code",
   "execution_count": 3,
   "metadata": {},
   "outputs": [],
   "source": [
    "# Cumulative standard normal distribution\n",
    "def cdf(x):\n",
    "    return (1.0 + erf(x / sqrt(2.0))) / 2.0"
   ]
  },
  {
   "cell_type": "code",
   "execution_count": 4,
   "metadata": {},
   "outputs": [],
   "source": [
    "\n",
    "# Intermediate calculation used by both the Bjerksund-Stensland approximations\n",
    "def phi(s, t, gamma, h, i, rd, b, v):\n",
    "    lambda1 = (-rd + gamma * b + 0.5 * gamma * (gamma - 1) * v**2) * t\n",
    "    dd = -(log(s / h) + (b + (gamma - 0.5) * v**2) * t) / (v * sqrt(t))\n",
    "    k = 2 * b / (v**2) + (2 * gamma - 1)\n",
    "    try:\n",
    "        return exp(lambda1) * s**gamma * (cdf(dd) - (i / s)**k * cdf(dd - 2 * log(i / s) / (v * sqrt(t))))\n",
    "    except OverflowError as err:\n",
    "        return exp(lambda1) * s**gamma * cdf(dd)\n"
   ]
  },
  {
   "cell_type": "code",
   "execution_count": 5,
   "metadata": {},
   "outputs": [],
   "source": [
    "# Call Price based on Bjerksund/Stensland Model\n",
    "# Parameters\n",
    "#   underlying_price: Price of underlying asset\n",
    "#   exercise_price: Exercise price of the option\n",
    "#   time_in_years: Time to expiration in years\n",
    "#   rf: Risk-free rate for the foreign currency\n",
    "#   rd: Risk-free rate for the domestic currency\n",
    "#   volatility: Volatility percentage\n",
    "\n",
    "def bjerksund_stensland_call(underlying_price, exercise_price, time_in_years, rf, rd, volatility):\n",
    "    z = 1\n",
    "    b = rd - rf\n",
    "    \n",
    "    dt = volatility * sqrt(time_in_years)\n",
    "    drift = b\n",
    "    v2 = volatility**2\n",
    "    \n",
    "    b1 = sqrt((z * drift / v2 - 0.5)**2 + 2 * rd / v2)\n",
    "    beta = (1 / 2 - z * drift / v2) + b1\n",
    "    binfinity = beta / (beta - 1) * exercise_price\n",
    "    bb = max(exercise_price, rd / drift * exercise_price)\n",
    "    ht = -(z * drift * time_in_years + 2 * dt) * bb / (binfinity - bb)\n",
    "    i = bb + (binfinity - bb) * (1 - exp(ht))\n",
    "\n",
    "    if underlying_price < i and beta < 100:\n",
    "        alpha = (i - exercise_price) * i**(-beta)\n",
    "        return (alpha * underlying_price**beta \n",
    "                - alpha * phi(underlying_price, time_in_years, beta, i, i, rd, drift, volatility) \n",
    "                + phi(underlying_price, time_in_years, 1, i, i, rd, drift, volatility) \n",
    "                - phi(underlying_price, time_in_years, 1, exercise_price, i, rd, drift, volatility) \n",
    "                - exercise_price * phi(underlying_price, time_in_years, 0, i, i, rd, drift, volatility) \n",
    "                + exercise_price * phi(underlying_price, time_in_years, 0, exercise_price, i, rd, drift, volatility))\n",
    "    \n",
    "    return underlying_price - exercise_price\n"
   ]
  },
  {
   "cell_type": "code",
   "execution_count": 6,
   "metadata": {},
   "outputs": [],
   "source": [
    "\n",
    "# Put Price based on Bjerksund/Stensland Model\n",
    "# Parameters\n",
    "#   underlying_price: Price of underlying asset\n",
    "#   exercise_price: Exercise price of the option\n",
    "#   time_in_years: Time to expiration in years\n",
    "#   rf: Risk-free rate for the foreign currency\n",
    "#   rd: Risk-free rate for the domestic currency\n",
    "#   volatility: Volatility percentage\n",
    "\n",
    "def bjerksund_stensland_put(underlying_price, exercise_price, time_in_years, rf, rd, volatility):\n",
    "    z = -1\n",
    "    b = rd - rf\n",
    "    \n",
    "    asset_new = underlying_price\n",
    "    underlying_price = exercise_price\n",
    "    exercise_price = asset_new\n",
    "\n",
    "    dt = volatility * sqrt(time_in_years)\n",
    "    drift = b\n",
    "    v2 = volatility**2\n",
    "\n",
    "    b1 = sqrt((z * drift / v2 - 0.5)**2 + 2 * rd / v2)\n",
    "    beta = (1 / 2 - z * drift / v2) + b1\n",
    "    binfinity = beta / (beta - 1) * exercise_price\n",
    "    bb = max(exercise_price, rd / drift * exercise_price)\n",
    "    ht = -(z * drift * time_in_years + 2 * dt) * bb / (binfinity - bb)\n",
    "    i = bb + (binfinity - bb) * (1 - exp(ht))\n",
    "        \n",
    "    if underlying_price < i and beta < 100: # To avoid overflow\n",
    "        alpha = (i - exercise_price) * i**(-beta)\n",
    "        return (alpha * underlying_price**beta \n",
    "                - alpha * phi(underlying_price, time_in_years, beta, i, i, rd, drift, volatility) \n",
    "                + phi(underlying_price, time_in_years, 1, i, i, rd, drift, volatility) \n",
    "                - phi(underlying_price, time_in_years, 1, exercise_price, i, rd, drift, volatility) \n",
    "                - exercise_price * phi(underlying_price, time_in_years, 0, i, i, rd, drift, volatility) \n",
    "                + exercise_price * phi(underlying_price, time_in_years, 0, exercise_price, i, rd, drift, volatility))\n",
    "    \n",
    "    return underlying_price - exercise_price    "
   ]
  },
  {
   "cell_type": "code",
   "execution_count": 17,
   "metadata": {},
   "outputs": [
    {
     "name": "stdout",
     "output_type": "stream",
     "text": [
      "Black-Scholes Call Price: 0.33\n",
      "Call Delta: 0.29, Gamma: 0.19, Vega: 20.09, Rho: 12.14, Theta: -0.32\n",
      "Black-Scholes Put Price: 1.25\n",
      "Put Delta: -0.68, Gamma: 0.19, Vega: 20.09, Rho: -29.06, Theta: -1.37\n"
     ]
    }
   ],
   "source": [
    "\n",
    "# Black-Scholes price and Greeks for European Call Option\n",
    "def black_scholes_call(S, K, T, rf, rd, sigma):\n",
    "    # Calculate d1 and d2\n",
    "    d1 = (log(S / K) + (rd - rf + 0.5 * sigma ** 2) * T) / (sigma * sqrt(T))\n",
    "    d2 = d1 - sigma * sqrt(T)\n",
    "    \n",
    "    # Call option price\n",
    "    call_price = S * exp(-rf * T) * norm.cdf(d1) - K * exp(-rd * T) * norm.cdf(d2)\n",
    "    \n",
    "    # Greeks\n",
    "    delta = exp(-rf * T) * norm.cdf(d1)\n",
    "    gamma = exp(-rf * T) * norm.pdf(d1) / (S * sigma * sqrt(T))\n",
    "    vega = S * exp(-rf * T) * sqrt(T) * norm.pdf(d1)\n",
    "    rho = K * T * exp(-rd * T) * norm.cdf(d2)\n",
    "    theta = -S * exp(-rf * T) * norm.pdf(d1) * sigma / (2 * sqrt(T)) - rf * S * exp(-rf * T) * norm.cdf(d1) + rd * K * exp(-rd * T) * norm.cdf(d2)\n",
    "    \n",
    "    return call_price, delta, gamma, vega, rho, theta\n",
    "\n",
    "# Black-Scholes price and Greeks for European Put Option\n",
    "def black_scholes_put(S, K, T, rf, rd, sigma):\n",
    "    # Calculate d1 and d2\n",
    "    d1 = (log(S / K) + (rd - rf + 0.5 * sigma ** 2) * T) / (sigma * sqrt(T))\n",
    "    d2 = d1 - sigma * sqrt(T)\n",
    "    \n",
    "    # Put option price\n",
    "    put_price = K * exp(-rd * T) * norm.cdf(-d2) - S * exp(-rf * T) * norm.cdf(-d1)\n",
    "    \n",
    "    # Greeks\n",
    "    delta = -exp(-rf * T) * norm.cdf(-d1)\n",
    "    gamma = exp(-rf * T) * norm.pdf(d1) / (S * sigma * sqrt(T))\n",
    "    vega = S * exp(-rf * T) * sqrt(T) * norm.pdf(d1)\n",
    "    rho = -K * T * exp(-rd * T) * norm.cdf(-d2)\n",
    "    theta = -S * exp(-rf * T) * norm.pdf(d1) * sigma / (2 * sqrt(T)) + rf * S * exp(-rf * T) * norm.cdf(-d1) - rd * K * exp(-rd * T) * norm.cdf(-d2)\n",
    "    \n",
    "    return put_price, delta, gamma, vega, rho, theta\n",
    "\n",
    "\n",
    "bs_call_price, call_delta, call_gamma, call_vega, call_rho, call_theta = black_scholes_call(S, K, T, rf, rd, sigma)\n",
    "    \n",
    "    # Calculate Black-Scholes price and Greeks for put\n",
    "bs_put_price, put_delta, put_gamma, put_vega, put_rho, put_theta = black_scholes_put(S, K, T, rf, rd, sigma)\n",
    "    \n",
    "    # Print results\n",
    "print(f\"Black-Scholes Call Price: {bs_call_price:.2f}\")\n",
    "print(f\"Call Delta: {call_delta:.2f}, Gamma: {call_gamma:.2f}, Vega: {call_vega:.2f}, Rho: {call_rho:.2f}, Theta: {call_theta:.2f}\")\n",
    "    \n",
    "print(f\"Black-Scholes Put Price: {bs_put_price:.2f}\")\n",
    "print(f\"Put Delta: {put_delta:.2f}, Gamma: {put_gamma:.2f}, Vega: {put_vega:.2f}, Rho: {put_rho:.2f}, Theta: {put_theta:.2f}\")\n",
    "    "
   ]
  },
  {
   "cell_type": "code",
   "execution_count": 15,
   "metadata": {},
   "outputs": [
    {
     "name": "stdout",
     "output_type": "stream",
     "text": [
      "American Call Option Price (USD/INR): 0.33\n",
      "American Put Option Price (USD/INR): 2.04\n"
     ]
    }
   ],
   "source": [
    "# Example usage\n",
    "if __name__ == \"__main__\":\n",
    "    # Assume the inputs for the example\n",
    "    S = 83.54  # Current USD/INR exchange rate\n",
    "    K = 85 # Strike price\n",
    "    T = 0.5  # Time to maturity in years (6 months)\n",
    "    rf = 0.05  # Risk-free interest rate for the foreign currency (2%)\n",
    "    rd = 0.0622  # Risk-free interest rate for the domestic currency (5%)\n",
    "    sigma = 0.03  # Volatility (10%)\n",
    "    \n",
    "    # Calculate option price\n",
    "    call_price = bjerksund_stensland_call(S, K, T, rf, rd, sigma)\n",
    "    put_price = bjerksund_stensland_put(S, K, T, rf, rd, sigma)\n",
    "    \n",
    "    # Print results\n",
    "    print(f\"American Call Option Price (USD/INR): {call_price:.2f}\")\n",
    "    print(f\"American Put Option Price (USD/INR): {put_price:.2f}\")\n"
   ]
  },
  {
   "cell_type": "code",
   "execution_count": null,
   "metadata": {},
   "outputs": [],
   "source": []
  }
 ],
 "metadata": {
  "kernelspec": {
   "display_name": "base",
   "language": "python",
   "name": "python3"
  },
  "language_info": {
   "codemirror_mode": {
    "name": "ipython",
    "version": 3
   },
   "file_extension": ".py",
   "mimetype": "text/x-python",
   "name": "python",
   "nbconvert_exporter": "python",
   "pygments_lexer": "ipython3",
   "version": "3.9.13"
  }
 },
 "nbformat": 4,
 "nbformat_minor": 2
}
