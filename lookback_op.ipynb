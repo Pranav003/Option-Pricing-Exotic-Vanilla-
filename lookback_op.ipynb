{
 "cells": [
  {
   "cell_type": "code",
   "execution_count": 1,
   "metadata": {},
   "outputs": [],
   "source": [
    "# Import dependencies\n",
    "import time\n",
    "import numpy as np\n",
    "import pandas as pd\n",
    "from scipy.stats import norm\n",
    "from datetime import datetime\n",
    "import matplotlib.pyplot as plt"
   ]
  },
  {
   "cell_type": "code",
   "execution_count": 13,
   "metadata": {},
   "outputs": [
    {
     "name": "stdout",
     "output_type": "stream",
     "text": [
      "Start averaging from T1 0.0 to T2 0.5\n"
     ]
    }
   ],
   "source": [
    "# Parameters\n",
    "S0 = 83.5900  # Spot price\n",
    "K = 84.1080   # Strike price\n",
    "T = 0.5       # Time to expiry in years (6 months)\n",
    "rd = 0.0513   # Domestic risk-free rate\n",
    "rf = 0.0645   # Foreign risk-free rate\n",
    "vol = (0.02527 + 0.03102) / 2  # Average implied volatility\n",
    "N = 126  # Number of time steps (approximately 6 months of trading days)\n",
    "M = 10000  # Number of simulation paths\n",
    "\n",
    "# Time to start and end of averaging period\n",
    "T1 = 0.0  # Starting time (now)\n",
    "T2 = T    # Ending time (expiry)\n",
    "\n",
    "T_tT2 = T2\n",
    "T_tT1 = T1\n",
    "print(\"Start averaging from T1\", round(T_tT1, 2), \"to T2\", round(T_tT2, 2))\n"
   ]
  },
  {
   "cell_type": "code",
   "execution_count": 9,
   "metadata": {},
   "outputs": [
    {
     "name": "stdout",
     "output_type": "stream",
     "text": [
      "Black Scholes Option Price:  0.7895681301591099\n"
     ]
    }
   ],
   "source": [
    "\n",
    "def blackScholes(rd,rf, S, K, T, sigma, type=\"c\"):\n",
    "    \"Calculate BS price of call/put\"\n",
    "    d1 = (np.log(S/K) + (rd - rf + sigma**2/2)*T)/(sigma*np.sqrt(T))\n",
    "    d2 = d1 - sigma*np.sqrt(T)\n",
    "    try:\n",
    "        if type == \"c\":\n",
    "            price = S*np.exp(-rf*T)*norm.cdf(d1, 0, 1) - K*np.exp(-rd*T)*norm.cdf(d2, 0, 1)\n",
    "        elif type == \"p\":\n",
    "            price = K*np.exp(-rd*T)*norm.cdf(-d2, 0, 1) - S*np.exp(-rf*T)*norm.cdf(-d1, 0, 1)\n",
    "        return price\n",
    "    except:\n",
    "        print(\"Please confirm option type, either 'c' for Call or 'p' for Put!\")\n",
    "\n",
    "\n",
    "print(\"Black Scholes Option Price: \", round(blackScholes(rd,rf, S0, K, T, vol, \"c\"),2)*100/S0)"
   ]
  },
  {
   "cell_type": "code",
   "execution_count": 15,
   "metadata": {},
   "outputs": [
    {
     "name": "stdout",
     "output_type": "stream",
     "text": [
      "Number of time steps: 126\n",
      "Call value is 0.107 with SE +/- 0.003\n",
      "Computation time is:  0.0911\n"
     ]
    }
   ],
   "source": [
    "obs_times = np.linspace(T_tT1, T_tT2, N+1)\n",
    "# Include starting time, uneven time deltas\n",
    "obs_times[0] = 0\n",
    "dt = np.diff(obs_times)\n",
    "print(\"Number of time steps:\", len(dt))\n",
    "\n",
    "start_time = time.time()\n",
    "\n",
    "nudt = np.full(shape=(N, M), fill_value=0.0)\n",
    "volsdt = np.full(shape=(N, M), fill_value=0.0)\n",
    "\n",
    "# Precompute constants\n",
    "for i in range(N):\n",
    "    nudt[i,:] = (rd - rf - 0.5 * vol**2) * dt[i]\n",
    "    volsdt[i,:] = vol * np.sqrt(dt[i])\n",
    "\n",
    "\n",
    "# Monte Carlo Method\n",
    "Z = np.random.normal(size=(N, M))\n",
    "delta_St = nudt + volsdt * Z\n",
    "ST = S0 * np.cumprod(np.exp(delta_St), axis=0)\n",
    "AT = np.cumsum(ST, axis=0) / N\n",
    "ST = np.concatenate((np.full(shape=(1, M), fill_value=S0), ST))\n",
    "\n",
    "CT = np.maximum(0, AT[-1] - K)\n",
    "C0_fast = np.exp(-rd * T) * np.sum(CT) / M\n",
    "\n",
    "sigma = np.sqrt(np.sum((np.exp(-rd * T) * CT - C0_fast)**2) / (M - 1))\n",
    "sigma = np.std(np.exp(-rd * T) * CT)\n",
    "SE_fast = sigma / np.sqrt(M)\n",
    "\n",
    "time_comp_fast = round(time.time() - start_time, 4)\n",
    "print(\"Call value is {0} with SE +/- {1}\".format(np.round(C0_fast, 3), np.round(SE_fast, 3)))\n",
    "print(\"Computation time is: \", time_comp_fast)\n"
   ]
  },
  {
   "cell_type": "code",
   "execution_count": 11,
   "metadata": {},
   "outputs": [
    {
     "name": "stdout",
     "output_type": "stream",
     "text": [
      "Number of time steps: 181\n"
     ]
    }
   ],
   "source": [
    "# fast steps - discretized every day (288 trading intervals)\n",
    "N = Q123_days\n",
    "\n",
    "obs_times = np.linspace(T_tT1,T_tT2,N+1)\n",
    "# Include starting time, uneven time delta's\n",
    "obs_times[0]=0\n",
    "dt = np.diff(obs_times)\n",
    "print(\"Number of time steps:\", len(dt))"
   ]
  },
  {
   "cell_type": "code",
   "execution_count": 12,
   "metadata": {},
   "outputs": [
    {
     "name": "stdout",
     "output_type": "stream",
     "text": [
      "Call value is $0.273 with SE +/- 0.015\n",
      "Computation time is:  0.0117\n"
     ]
    }
   ],
   "source": [
    "# slow steps - discretized every day\n",
    "N = Q123_days\n",
    "\n",
    "T_tT2 = ((T2-t).days+1)/365\n",
    "T_tT1 = (T1-t).days/365\n",
    "print(\"Start averaging from T1\", round(T_tT1,2), \"to T2\", round(T_tT2,2))\n",
    "\n",
    "obs_times = np.linspace(T_tT1,T_tT2,N+1)\n",
    "# Include starting time, uneven time delta's\n",
    "obs_times[0]=0\n",
    "dt = np.diff(obs_times)\n",
    "print(\"Number of time steps:\", len(dt))\n",
    "\n",
    "start_time = time.time()\n",
    "\n",
    "nudt = np.full(shape=(N,M), fill_value=0.0)\n",
    "volsdt = np.full(shape=(N,M), fill_value=0.0)\n",
    "\n",
    "# Precompute constants\n",
    "for i in range(N):\n",
    "    nudt[i,:] = (r - 0.5*vol**2)*dt[i]\n",
    "    volsdt[i,:] = vol*np.sqrt(dt[i])\n",
    "\n",
    "# Monte Carlo Method\n",
    "Z = np.random.normal(size=(N, M))\n",
    "delta_St = nudt + volsdt*Z\n",
    "ST = S0*np.cumprod( np.exp(delta_St), axis=0)\n",
    "AT = np.cumsum(ST, axis=0)/N\n",
    "ST = np.concatenate( (np.full(shape=(1, M), fill_value=S0), ST ) )\n",
    "\n",
    "CT = np.maximum(0, AT[-1] - K)\n",
    "C0_fast = np.exp(-r*T)*np.sum(CT)/M\n",
    "\n",
    "sigma = np.sqrt( np.sum( (np.exp(-r*T)*CT - C0_fast)**2) / (M-1) )\n",
    "sigma = np.std(np.exp(-r*T)*CT)\n",
    "SE_fast = sigma/np.sqrt(M)\n",
    "\n",
    "time_comp_fast = round(time.time() - start_time,4)\n",
    "print(\"Call value is ${0} with SE +/- {1}\".format(np.round(C0_fast,3),np.round(SE_fast,3)))\n",
    "print(\"Computation time is: \", time_comp_fast)"
   ]
  },
  {
   "cell_type": "code",
   "execution_count": 17,
   "metadata": {},
   "outputs": [
    {
     "name": "stdout",
     "output_type": "stream",
     "text": [
      "Start averaging from T1 0.0 to T2 0.5\n",
      "Number of time steps: 126\n",
      "Call value is $0.107 with SE +/- 0.003\n",
      "Computation time is:  0.0884\n",
      "The simulated lookback call option price using Black-Scholes model is: 0.97\n"
     ]
    }
   ],
   "source": [
    "import numpy as np\n",
    "import matplotlib.pyplot as plt\n",
    "\n",
    "# Parameters from the image\n",
    "S0 = 83.5900  # Spot price\n",
    "K = 84.1080   # Strike price\n",
    "expiry = 0.5  # 6 months in years\n",
    "rd = 0.0513   # Domestic risk-free rate (USD SOFR)\n",
    "rf = 0.0645   # Foreign risk-free rate (INR Depo)\n",
    "vol = (0.02527 + 0.03102) / 2  # Average implied volatility\n",
    "N = 126  # Number of time steps (approximately 6 months of trading days)\n",
    "M = 10000  # Number of simulation paths\n",
    "\n",
    "# Time to start and end of averaging period\n",
    "T1 = 0.0  # Starting time (now)\n",
    "T2 = expiry  # Ending time (expiry)\n",
    "\n",
    "T_tT2 = T2\n",
    "T_tT1 = T1\n",
    "print(\"Start averaging from T1\", round(T_tT1, 2), \"to T2\", round(T_tT2, 2))\n",
    "\n",
    "obs_times = np.linspace(T_tT1, T_tT2, N+1)\n",
    "# Include starting time, uneven time deltas\n",
    "obs_times[0] = 0\n",
    "dt = np.diff(obs_times)\n",
    "print(\"Number of time steps:\", len(dt))\n",
    "\n",
    "start_time = time.time()\n",
    "\n",
    "nudt = np.full(shape=(N, M), fill_value=0.0)\n",
    "volsdt = np.full(shape=(N, M), fill_value=0.0)\n",
    "\n",
    "# Precompute constants\n",
    "for i in range(N):\n",
    "    nudt[i,:] = (rd - rf - 0.5 * vol**2) * dt[i]\n",
    "    volsdt[i,:] = vol * np.sqrt(dt[i])\n",
    "\n",
    "# Monte Carlo Method\n",
    "Z = np.random.normal(size=(N, M))\n",
    "delta_St = nudt + volsdt * Z\n",
    "ST = S0 * np.cumprod(np.exp(delta_St), axis=0)\n",
    "AT = np.cumsum(ST, axis=0) / N\n",
    "ST = np.concatenate((np.full(shape=(1, M), fill_value=S0), ST))\n",
    "\n",
    "CT = np.maximum(0, AT[-1] - K)\n",
    "C0_fast = np.exp(-rd * T) * np.sum(CT) / M\n",
    "\n",
    "sigma = np.sqrt(np.sum((np.exp(-rd * T) * CT - C0_fast)**2) / (M - 1))\n",
    "sigma = np.std(np.exp(-rd * T) * CT)\n",
    "SE_fast = sigma / np.sqrt(M)\n",
    "\n",
    "time_comp_fast = round(time.time() - start_time, 4)\n",
    "print(\"Call value is ${0} with SE +/- {1}\".format(np.round(C0_fast, 3), np.round(SE_fast, 3)))\n",
    "print(\"Computation time is: \", time_comp_fast)\n",
    "\n",
    "# Black-Scholes model for lookback option comparison\n",
    "dt_bs = T / N  # Time step size\n",
    "nudt_bs = (rd - rf - 0.5 * vol ** 2) * dt_bs\n",
    "volsdt_bs = vol * np.sqrt(dt_bs)\n",
    "\n",
    "# Simulate paths using Black-Scholes dynamics\n",
    "np.random.seed(0)\n",
    "Z_bs = np.random.normal(size=(N, M))\n",
    "S_paths_bs = np.zeros((N+1, M))\n",
    "S_paths_bs[0] = S0\n",
    "\n",
    "for i in range(1, N+1):\n",
    "    S_paths_bs[i] = S_paths_bs[i-1] * np.exp(nudt_bs + volsdt_bs * Z_bs[i-1])\n",
    "\n",
    "# Calculate maximum prices for each path (Lookback feature)\n",
    "S_max_bs = np.max(S_paths_bs, axis=0)\n",
    "\n",
    "# Lookback call option payoff: max(S_max - S0, 0)\n",
    "payoffs_bs = np.maximum(S_max_bs - S0, 0)\n",
    "lookback_price_bs = np.exp(-rd * T) * np.mean(payoffs_bs)\n",
    "\n",
    "print(f\"The simulated lookback call option price using Black-Scholes model is: {lookback_price_bs:.2f}\")\n"
   ]
  },
  {
   "cell_type": "code",
   "execution_count": 21,
   "metadata": {},
   "outputs": [
    {
     "name": "stderr",
     "output_type": "stream",
     "text": [
      "C:\\Users\\91751\\AppData\\Local\\Temp\\ipykernel_26744\\2536154765.py:55: RuntimeWarning: invalid value encountered in sqrt\n",
      "  St = St * np.exp((rd - rf - 0.5 * vt) * dt + np.sqrt(vt * dt) * W2)\n",
      "C:\\Users\\91751\\AppData\\Local\\Temp\\ipykernel_26744\\2536154765.py:52: RuntimeWarning: invalid value encountered in sqrt\n",
      "  vt = vt + kappadt * (theta - vt) + sigmasdt * np.sqrt(vt) * W1\n"
     ]
    },
    {
     "name": "stdout",
     "output_type": "stream",
     "text": [
      "Lookback Call value is $1.864 with SE +/- 0.07\n",
      "Computation time is: 0.3395\n"
     ]
    }
   ],
   "source": [
    "import numpy as np\n",
    "import datetime\n",
    "import time\n",
    "\n",
    "# Given data for lookback call option\n",
    "S0 = 83.59          # Spot exchange rate\n",
    "K = 84.108          # Strike price\n",
    "vol = 0.028145      # Volatility\n",
    "rd = 0.06446        # Domestic risk-free rate\n",
    "rf = 0.05134        # Foreign risk-free rate\n",
    "T = ((datetime.date(2025,1,17) - datetime.date(2024,7,17)).days) / 365  # Time in years\n",
    "\n",
    "# Assumed parameters for the Heston model\n",
    "kappa = 2.0         # Mean-reversion rate\n",
    "theta = 0.02        # Long-term mean variance\n",
    "sigma = 0.2         # Volatility of volatility\n",
    "vt0 = vol**2        # Initial variance\n",
    "rho = -0.5          # Correlation\n",
    "\n",
    "N = 52      # number of time intervals\n",
    "M = 1000    # number of simulations\n",
    "\n",
    "# Start timing\n",
    "start_time = time.time()\n",
    "\n",
    "# Precompute constants\n",
    "dt = T / N\n",
    "kappadt = kappa * dt\n",
    "sigmasdt = sigma * np.sqrt(dt)\n",
    "\n",
    "# Standard Error Placeholders\n",
    "sum_CT = 0\n",
    "sum_CT2 = 0\n",
    "\n",
    "# Monte Carlo Method\n",
    "for i in range(M):\n",
    "\n",
    "    St = S0\n",
    "    vt = vt0\n",
    "    St_max = S0\n",
    "\n",
    "    for j in range(N):\n",
    "\n",
    "        # Generate Wiener variables\n",
    "        W = np.random.normal(0.0, 1.0, size=(2))\n",
    "        \n",
    "        # Correlated Brownian motions\n",
    "        W1 = W[0]\n",
    "        W2 = rho * W1 + np.sqrt(1 - rho**2) * W[1]\n",
    "\n",
    "        # Variance process\n",
    "        vt = vt + kappadt * (theta - vt) + sigmasdt * np.sqrt(vt) * W1\n",
    "\n",
    "        # Asset process\n",
    "        St = St * np.exp((rd - rf - 0.5 * vt) * dt + np.sqrt(vt * dt) * W2)\n",
    "\n",
    "        if St > St_max:\n",
    "            St_max = St\n",
    "\n",
    "    CT = max(0, St_max - K)\n",
    "    sum_CT += CT\n",
    "    sum_CT2 += CT * CT\n",
    "\n",
    "# Compute Expectation and SE\n",
    "C0_slow = np.exp(-rd * T) * sum_CT / M\n",
    "SE_slow = np.sqrt((sum_CT2 - sum_CT * sum_CT / M) * np.exp(-2 * rd * T) / (M - 1)) / np.sqrt(M)\n",
    "\n",
    "# End timing\n",
    "time_comp_slow = round(time.time() - start_time, 4)\n",
    "\n",
    "print(\"Lookback Call value is ${0} with SE +/- {1}\".format(np.round(C0_slow, 3), np.round(SE_slow, 3)))\n",
    "print(\"Computation time is:\", time_comp_slow)\n"
   ]
  },
  {
   "cell_type": "code",
   "execution_count": 27,
   "metadata": {},
   "outputs": [
    {
     "name": "stdout",
     "output_type": "stream",
     "text": [
      "Lookback Call value is $3.16 with SE +/- 0.11\n",
      "Computation time is: 0.0061\n"
     ]
    },
    {
     "name": "stderr",
     "output_type": "stream",
     "text": [
      "C:\\Users\\91751\\AppData\\Local\\Temp\\ipykernel_26744\\678758036.py:50: RuntimeWarning: invalid value encountered in sqrt\n",
      "  St[j] = St[j - 1] * np.exp(nudt + np.sqrt(vt[j] * dt) * W[j - 1, :, 1])\n",
      "C:\\Users\\91751\\AppData\\Local\\Temp\\ipykernel_26744\\678758036.py:46: RuntimeWarning: invalid value encountered in sqrt\n",
      "  vt[j] = vt[j - 1] + kappadt * (theta - vt[j - 1]) + sigmasdt * np.sqrt(vt[j - 1]) * W[j - 1, :, 0]\n"
     ]
    }
   ],
   "source": [
    "import numpy as np\n",
    "import datetime\n",
    "import time\n",
    "\n",
    "# Given data for lookback call option\n",
    "S0 = 83.59          # Spot exchange rate\n",
    "K = 84.108          # Strike price\n",
    "vol = 0.028145      # Volatility\n",
    "rd = 0.06446        # Domestic risk-free rate\n",
    "rf = 0.05134        # Foreign risk-free rate\n",
    "T = ((datetime.date(2025,1,17) - datetime.date(2024,7,17)).days) / 365  # Time in years\n",
    "\n",
    "# Assumed parameters for the Heston model\n",
    "kappa = 2.0         # Mean-reversion rate\n",
    "theta = 0.02        # Long-term mean variance\n",
    "sigma = 0.2         # Volatility of volatility\n",
    "vt0 = vol**2        # Initial variance\n",
    "rho = -0.5          # Correlation\n",
    "\n",
    "N = 52      # number of time intervals\n",
    "M = 1000    # number of simulations\n",
    "\n",
    "# Start Timer\n",
    "start_time = time.time()\n",
    "\n",
    "# Precompute constants\n",
    "dt = T / N\n",
    "\n",
    "# Heston model adjustments for time steps\n",
    "kappadt = kappa * dt\n",
    "sigmasdt = sigma * np.sqrt(dt)\n",
    "\n",
    "# Generate Wiener variables\n",
    "W = np.random.normal(0.0, 1.0, size=(N, M, 2))\n",
    "\n",
    "# Arrays for storing prices and variances\n",
    "St = np.full(shape=(N + 1, M), fill_value=S0)\n",
    "vt = np.full(shape=(N + 1, M), fill_value=vt0)\n",
    "\n",
    "# Array for storing maximums\n",
    "St_max = np.full(shape=(M), fill_value=S0)\n",
    "\n",
    "for j in range(1, N + 1):\n",
    "\n",
    "    # Simulate variance processes\n",
    "    vt[j] = vt[j - 1] + kappadt * (theta - vt[j - 1]) + sigmasdt * np.sqrt(vt[j - 1]) * W[j - 1, :, 0]\n",
    "\n",
    "    # Simulate log asset prices\n",
    "    nudt = (rd - rf - 0.5 * vt[j]) * dt\n",
    "    St[j] = St[j - 1] * np.exp(nudt + np.sqrt(vt[j] * dt) * W[j - 1, :, 1])\n",
    "\n",
    "    mask = np.where(St[j] > St_max)\n",
    "    St_max[mask] = St[j][mask]\n",
    "\n",
    "# Compute Expectation and SE\n",
    "CT = np.maximum(0, St_max - K)\n",
    "C0_fast = np.exp(-rd * T) * np.sum(CT) / M\n",
    "\n",
    "SE_fast = np.sqrt(np.sum((np.exp(-rd * T) * CT - C0_fast)**2) / (M - 1)) / np.sqrt(M)\n",
    "\n",
    "time_comp_fast = round(time.time() - start_time, 4)\n",
    "print(\"Lookback Call value is ${0} with SE +/- {1}\".format(np.round(C0_fast, 2), np.round(SE_fast, 2)))\n",
    "print(\"Computation time is:\", time_comp_fast)\n"
   ]
  },
  {
   "cell_type": "code",
   "execution_count": null,
   "metadata": {},
   "outputs": [],
   "source": []
  }
 ],
 "metadata": {
  "kernelspec": {
   "display_name": "base",
   "language": "python",
   "name": "python3"
  },
  "language_info": {
   "codemirror_mode": {
    "name": "ipython",
    "version": 3
   },
   "file_extension": ".py",
   "mimetype": "text/x-python",
   "name": "python",
   "nbconvert_exporter": "python",
   "pygments_lexer": "ipython3",
   "version": "3.9.13"
  }
 },
 "nbformat": 4,
 "nbformat_minor": 2
}
