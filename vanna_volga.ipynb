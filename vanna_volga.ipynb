{
 "cells": [
  {
   "cell_type": "code",
   "execution_count": 2,
   "metadata": {},
   "outputs": [],
   "source": [
    "import numpy as np\n",
    "from scipy.interpolate import CubicSpline\n",
    "from scipy.stats import norm"
   ]
  },
  {
   "cell_type": "code",
   "execution_count": 12,
   "metadata": {},
   "outputs": [
    {
     "name": "stdout",
     "output_type": "stream",
     "text": [
      "Vanna-Volga Adjusted Price: 0.7562442751469858\n",
      "Black-Scholes Price: 0.7326549977755477\n"
     ]
    }
   ],
   "source": [
    "import numpy as np\n",
    "import scipy.stats as sct\n",
    "from scipy.interpolate import CubicSpline\n",
    "from scipy.stats import norm\n",
    "\n",
    "# Given market data\n",
    "times = np.array([1/52, 2/52, 3/52, 1/12, 2/12, 3/12, 4/12, 5/12, 6/12, 9/12, 1, 1.5, 2, 3, 4, 5, 6, 7, 10, 15, 20, 25, 30])\n",
    "atmf_vol = np.array([2.22, 2.2275, 2.325, 2.43, 2.58, 2.7075, 2.95, 3.0795, 3.1775, 3.4025, 35925, 3.8175, 3.96, 4.1625, 4.3825, 4.5325, 4.611, 4.665, 4.635, 4.5275, 4.527, 4.526, 4.5255])\n",
    "rr_25 = np.array([0.78, 0.7975, 0.7725, 0.775, 0.765, 0.75, 0.7375, 0.727, 0.725, 0.695, 0.735, 0.715, 0.705, 0.7075, 0.71, 0.71, 0.6995, 0.6925, 0.695, 0.7, 0.4015, 0.403, 0.4035])\n",
    "bf_25 = np.array([0.3, 0.3, 0.295, 0.3, 0.2975, 0.3025, 0.3, 0.2945, 0.2925, 0.3075, 0.315, 0.3275, 0.33, 0.365, 0.365, 0.3875, 0.396, 0.4025, 0.4, 0.6175, 0.436, 0.436, 0.4355])\n",
    "\n",
    "# Convert volatilities to decimal\n",
    "atmf_vol /= 100\n",
    "rr_25 /= 100\n",
    "bf_25 /= 100\n",
    "\n",
    "# Interpolation functions\n",
    "cs_atmf = CubicSpline(times, atmf_vol)\n",
    "cs_rr_25 = CubicSpline(times, rr_25)\n",
    "cs_bf_25 = CubicSpline(times, bf_25)\n",
    "\n",
    "# Function to calculate Black-Scholes price\n",
    "def black_scholes_fx_price(S, K, T, rd, rf, sigma, option_type='call'):\n",
    "    d1 = (np.log(S / K) + (rd - rf + 0.5 * sigma**2) * T) / (sigma * np.sqrt(T))\n",
    "    d2 = d1 - sigma * np.sqrt(T)\n",
    "    if option_type == 'call':\n",
    "        price = S * np.exp(-rf * T) * norm.cdf(d1) - K * np.exp(-rd * T) * norm.cdf(d2)\n",
    "    else:\n",
    "        price = K * np.exp(-rd * T) * norm.cdf(-d2) - S * np.exp(-rf * T) * norm.cdf(-d1)\n",
    "    return price\n",
    "\n",
    "# Function to calculate vega\n",
    "def black_scholes_vega(S, K, T, rd, rf, sigma):\n",
    "    d1 = (np.log(S / K) + (rd - rf + 0.5 * sigma**2) * T) / (sigma * np.sqrt(T))\n",
    "    vega = S * np.sqrt(T) * norm.pdf(d1)\n",
    "    return vega\n",
    "\n",
    "# Function to calculate vanna\n",
    "def black_scholes_vanna(S, K, T, rd, rf, sigma):\n",
    "    d1 = (np.log(S / K) + (rd - rf + 0.5 * sigma**2) * T) / (sigma * np.sqrt(T))\n",
    "    d2 = d1 - sigma * np.sqrt(T)\n",
    "    vega = black_scholes_vega(S, K, T, rd, rf, sigma)\n",
    "    vanna = vega * (d2 / (S * sigma))\n",
    "    return vanna\n",
    "\n",
    "# Function to calculate volga\n",
    "def black_scholes_volga(S, K, T, rd, rf, sigma):\n",
    "    d1 = (np.log(S / K) + (rd - rf + 0.5 * sigma**2) * T) / (sigma * np.sqrt(T))\n",
    "    d2 = d1 - sigma * np.sqrt(T)\n",
    "    vega = black_scholes_vega(S, K, T, rd, rf, sigma)\n",
    "    volga = vega * (d1 * d2 / sigma)\n",
    "    return volga\n",
    "\n",
    "# Function to calculate Vanna-Volga adjusted price\n",
    "def vanna_volga_fx_price(S, K, T, rd, rf, sigma_ATM, sigma_RR, sigma_BF, option_type='call'):\n",
    "    bs_price = black_scholes_fx_price(S, K, T, rd, rf, sigma_ATM, option_type)\n",
    "    vega_atm = black_scholes_vega(S, K, T, rd, rf, sigma_ATM)\n",
    "    vega_rr = black_scholes_vega(S, K, T, rd, rf, sigma_RR)\n",
    "    vega_bf = black_scholes_vega(S, K, T, rd, rf, sigma_BF)\n",
    "    vanna_rr = black_scholes_vanna(S, K, T, rd, rf, sigma_RR)\n",
    "    volga_bf = black_scholes_volga(S, K, T, rd, rf, sigma_BF)\n",
    "    \n",
    "    # Solve for weights\n",
    "    X = np.array([vega_atm, vanna_rr, volga_bf])\n",
    "    A = np.array([[vega_atm, vega_rr, vega_bf],\n",
    "                  [black_scholes_vanna(S, K, T, rd, rf, sigma_ATM), black_scholes_vanna(S, K, T, rd, rf, sigma_RR), black_scholes_vanna(S, K, T, rd, rf, sigma_BF)],\n",
    "                  [black_scholes_volga(S, K, T, rd, rf, sigma_ATM), black_scholes_volga(S, K, T, rd, rf, sigma_RR), black_scholes_volga(S, K, T, rd, rf, sigma_BF)]])\n",
    "    \n",
    "    w = np.linalg.solve(A, X)\n",
    "    \n",
    "    # Calculate the adjustment\n",
    "    market_prices = np.array([sigma_RR, sigma_BF, sigma_ATM])\n",
    "    BS_prices = np.array([black_scholes_fx_price(S, K, T, rd, rf, vol, option_type) for vol in [sigma_RR, sigma_BF, sigma_ATM]])\n",
    "    \n",
    "    adjustments = (market_prices)\n",
    "    VV_adjustment = np.dot(w, adjustments)\n",
    "    \n",
    "    p = 0.25  # Adjustment factor\n",
    "    vv_price = bs_price + p * VV_adjustment\n",
    "    \n",
    "    return vv_price\n",
    "\n",
    "# Example usage\n",
    "S = 83.56  # Spot price\n",
    "K = 84.12  # Strike price\n",
    "T = 0.5    # Time to maturity in years\n",
    "rd = 0.06481  # Domestic risk-free rate\n",
    "rf = 0.05132  # Foreign risk-free rate\n",
    "sigma_ATM = cs_atmf(T)  # Interpolated ATM volatility\n",
    "sigma_RR = cs_rr_25(T)  # Interpolated 25 Delta RR volatility\n",
    "sigma_BF = cs_bf_25(T)  # Interpolated 25 Delta BF volatility\n",
    "\n",
    "price = vanna_volga_fx_price(S, K, T, rd, rf, sigma_ATM, sigma_RR, sigma_BF, option_type='call')\n",
    "print(f\"Vanna-Volga Adjusted Price: {price}\")\n",
    "\n",
    "# also calculate the BS price\n",
    "bs_price = black_scholes_fx_price(S, K, T, rd, rf, sigma_ATM, option_type='call')\n",
    "print(f\"Black-Scholes Price: {bs_price}\")\n"
   ]
  },
  {
   "cell_type": "code",
   "execution_count": 28,
   "metadata": {},
   "outputs": [
    {
     "name": "stdout",
     "output_type": "stream",
     "text": [
      "Vanna-Volga Adjusted Price: 76.5445171736724\n",
      "Black-Scholes Price: 73.69325194101428\n"
     ]
    }
   ],
   "source": []
  },
  {
   "cell_type": "code",
   "execution_count": null,
   "metadata": {},
   "outputs": [],
   "source": []
  },
  {
   "cell_type": "code",
   "execution_count": 22,
   "metadata": {},
   "outputs": [
    {
     "name": "stdout",
     "output_type": "stream",
     "text": [
      "ATMF call price:  7.836840895386928\n",
      "10-delta call price:  9.726498246439157\n",
      "25-delta call price:  8.593311148020142\n",
      "ATMF put price:  7.360035162148328\n",
      "10-delta put price:  9.249692513200579\n",
      "25-delta put price:  8.116505414781557\n"
     ]
    }
   ],
   "source": [
    "\n",
    "# Black-Scholes prices\n",
    "price_atmf_call = black_scholes_fx(S, K, T, rd, rf, sigma_atmf, 'call')\n",
    "price_10d_call = black_scholes_fx(S, K, T, rd, rf, sigma_10d, 'call')\n",
    "price_25d_call = black_scholes_fx(S, K, T, rd, rf, sigma_25d, 'call')\n",
    "\n",
    "price_atmf_put = black_scholes_fx(S, K, T, rd, rf, sigma_atmf, 'put')\n",
    "price_10d_put = black_scholes_fx(S, K, T, rd, rf, sigma_10d, 'put')\n",
    "price_25d_put = black_scholes_fx(S, K, T, rd, rf, sigma_25d, 'put')\n",
    "\n",
    "# print the prices\n",
    "print('ATMF call price: ', price_atmf_call)\n",
    "print('10-delta call price: ', price_10d_call)\n",
    "print('25-delta call price: ', price_25d_call)\n",
    "print('ATMF put price: ', price_atmf_put)\n",
    "print('10-delta put price: ', price_10d_put)\n",
    "print('25-delta put price: ', price_25d_put)"
   ]
  },
  {
   "cell_type": "code",
   "execution_count": 23,
   "metadata": {},
   "outputs": [],
   "source": [
    "\n",
    "# Vega values\n",
    "vega_atmf = vega(S, K, T, rd, rf, sigma_atmf)\n",
    "vega_10d = vega(S, K, T, rd, rf, sigma_10d)\n",
    "vega_25d = vega(S, K, T, rd, rf, sigma_25d)"
   ]
  },
  {
   "cell_type": "code",
   "execution_count": 27,
   "metadata": {},
   "outputs": [],
   "source": [
    "# Correct Risk Reversal (RR) and Butterfly (BF) values using 25-delta\n",
    "value_rr = (price_25d_call - price_25d_put) - (price_atmf_call - price_atmf_put)\n",
    "value_bf = (price_25d_call + price_25d_put) / 2 - (price_atmf_call + price_atmf_put) / 2"
   ]
  },
  {
   "cell_type": "code",
   "execution_count": 28,
   "metadata": {},
   "outputs": [],
   "source": [
    "# Vanna and Volga ratios\n",
    "exotic_vanna_ratio = vega_10d / vega_atmf\n",
    "exotic_volga_ratio = vega_25d / vega_atmf"
   ]
  },
  {
   "cell_type": "code",
   "execution_count": 29,
   "metadata": {},
   "outputs": [
    {
     "data": {
      "text/plain": [
       "(7.836840895386928,\n",
       " -1.4172537159449139e-14,\n",
       " 0.7557173613518778,\n",
       " 8.59255825673879)"
      ]
     },
     "execution_count": 29,
     "metadata": {},
     "output_type": "execute_result"
    }
   ],
   "source": [
    "\n",
    "# Vanna and Volga costs\n",
    "cost_of_vanna = exotic_vanna_ratio * value_rr\n",
    "cost_of_volga = exotic_volga_ratio * value_bf\n",
    "\n",
    "# Adjusted price\n",
    "adjusted_price = price_atmf_call + cost_of_vanna + cost_of_volga\n",
    "\n",
    "price_atmf_call, cost_of_vanna, cost_of_volga, adjusted_price"
   ]
  },
  {
   "cell_type": "code",
   "execution_count": null,
   "metadata": {},
   "outputs": [],
   "source": []
  }
 ],
 "metadata": {
  "kernelspec": {
   "display_name": "base",
   "language": "python",
   "name": "python3"
  },
  "language_info": {
   "codemirror_mode": {
    "name": "ipython",
    "version": 3
   },
   "file_extension": ".py",
   "mimetype": "text/x-python",
   "name": "python",
   "nbconvert_exporter": "python",
   "pygments_lexer": "ipython3",
   "version": "3.9.13"
  }
 },
 "nbformat": 4,
 "nbformat_minor": 2
}
